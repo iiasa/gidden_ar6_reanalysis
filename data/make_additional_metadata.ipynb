{
 "cells": [
  {
   "cell_type": "code",
   "execution_count": 1,
   "id": "606243fc",
   "metadata": {},
   "outputs": [
    {
     "name": "stderr",
     "output_type": "stream",
     "text": [
      "c:\\Users\\gidden\\Miniconda3\\envs\\pyam\\Lib\\site-packages\\xarray\\backends\\cfgrib_.py:27: UserWarning: Failed to load cfgrib - most likely there is a problem accessing the ecCodes library. Try `import cfgrib` to get the full error message\n",
      "  warnings.warn(\n"
     ]
    }
   ],
   "source": [
    "import itertools\n",
    "import pathlib\n",
    "import pyam\n",
    "\n",
    "import numpy as np\n",
    "import pandas as pd"
   ]
  },
  {
   "cell_type": "code",
   "execution_count": 2,
   "id": "2f1beeb1",
   "metadata": {},
   "outputs": [],
   "source": [
    "all_new_meta = []\n",
    "all_categories = ['C1', 'C2', 'C3']"
   ]
  },
  {
   "cell_type": "markdown",
   "id": "6e886978",
   "metadata": {},
   "source": [
    "# Load Data"
   ]
  },
  {
   "cell_type": "code",
   "execution_count": 3,
   "id": "52fa04c4",
   "metadata": {},
   "outputs": [],
   "source": [
    "data_path = pathlib.Path('../data')\n",
    "paper_prefix = '10.5281_zenodo.10158920_gidden_et_al_2023_ar6_reanalysis'"
   ]
  },
  {
   "cell_type": "code",
   "execution_count": 4,
   "id": "da227a66",
   "metadata": {},
   "outputs": [],
   "source": [
    "paper_data = pd.concat([\n",
    "    pd.read_csv(data_path / f'{paper_prefix}_data.csv'),\n",
    "    pd.read_csv(data_path / 'additional_analysis_data.csv'),\n",
    "])"
   ]
  },
  {
   "cell_type": "code",
   "execution_count": 5,
   "id": "a6c7db7e",
   "metadata": {},
   "outputs": [
    {
     "name": "stderr",
     "output_type": "stream",
     "text": [
      "[WARNING] 12:36:09 - pyam.core: No meta indicators for the following scenarios:\n",
      "         model                scenario\n",
      "0  AIM/CGE 2.0  ADVANCE_2020_1.5C-2100\n",
      "1  AIM/CGE 2.0      ADVANCE_2020_Med2C\n",
      "2  AIM/CGE 2.0       ADVANCE_2020_WB2C\n",
      "3  AIM/CGE 2.0      ADVANCE_2030_Med2C\n",
      "4  AIM/CGE 2.0  ADVANCE_2030_Price1.5C\n",
      "...\n",
      "[INFO] 12:36:09 - pyam.core: Found column 'exclude' in sheet 'meta', moved to attribute `IamDataFrame.exclude`.\n"
     ]
    }
   ],
   "source": [
    "pyam_paper_data = pyam.IamDataFrame(paper_data)\n",
    "pyam_paper_data.load_meta(data_path / f'{paper_prefix}_meta.csv')\n",
    "pyam_paper_data.meta = pyam_paper_data.meta.drop(columns=['Category']) # this will come back when we load in AR6 data"
   ]
  },
  {
   "cell_type": "code",
   "execution_count": 6,
   "id": "abe80be1",
   "metadata": {},
   "outputs": [],
   "source": [
    "ar6_data = pd.read_csv(data_path / 'AR6_Scenarios_Database_World_v1.0.csv')"
   ]
  },
  {
   "cell_type": "code",
   "execution_count": 7,
   "id": "997a2e7f",
   "metadata": {},
   "outputs": [
    {
     "name": "stderr",
     "output_type": "stream",
     "text": [
      "[WARNING] 12:36:15 - pyam.core: Ignoring meta indicators for the following scenarios:\n",
      "         model                       scenario\n",
      "0  AIM/CGE 2.2   ADVANCE_WP2_IND-450-FullTech\n",
      "1  AIM/CGE 2.2  ADVANCE_WP2_IND-Base-FullTech\n",
      "2  AIM/CGE 2.2   ADVANCE_WP2_TRA-450-FullTech\n",
      "3  AIM/CGE 2.2  ADVANCE_WP2_TRA-Base-FullTech\n",
      "4  AIM/CGE 2.2  ADVANCE_WP2_TRA-Ctax-FullTech\n",
      "...\n"
     ]
    }
   ],
   "source": [
    "variables = {\n",
    "    'AR6 climate diagnostics|Infilled|Emissions|CO2': \n",
    "    'AR6 climate diagnostics|Infilled|Emissions|CO2', \n",
    "    'AR6 climate diagnostics|Native-with-Infilled|Emissions|Kyoto Gases (AR6-GWP100)': \n",
    "    'AR6 climate diagnostics|Infilled|Emissions|Kyoto Gases',\n",
    "}\n",
    "pyam_ar6 = pyam.IamDataFrame(ar6_data[ar6_data.Variable.isin(list(variables) + ['Emissions|CO2', 'Emissions|Kyoto Gases'])])\n",
    "pyam_ar6.load_meta(data_path / 'AR6_Scenarios_Database_metadata_indicators_v1.0.xlsx')\n",
    "pyam_ar6 = (\n",
    "    pyam_ar6\n",
    "    .filter(Category=all_categories)\n",
    "    .rename(variable=variables)\n",
    ")\n",
    "columns = {\n",
    "    'Year of netzero CO2 emissions (Harm-Infilled) table': \n",
    "    'Interpolated Net-Zero Year for AR6 climate diagnostics|Infilled|Emissions|CO2',\n",
    "    'Year of netzero GHG emissions (Harm-Infilled) table': \n",
    "    'Interpolated Net-Zero Year for AR6 climate diagnostics|Infilled|Emissions|Kyoto Gases',\n",
    "}\n",
    "pyam_ar6.meta.rename(columns=columns, inplace=True)\n",
    "pyam_ar6.meta = pyam_ar6.meta[['Category'] + list(columns.values())]"
   ]
  },
  {
   "cell_type": "markdown",
   "id": "de7f8ece",
   "metadata": {},
   "source": [
    "### Combine data sets\n",
    "\n",
    "We expect to have different numbers of scenarios, since `paper_data` reports only those scenarios which can be run with OSCAR."
   ]
  },
  {
   "cell_type": "code",
   "execution_count": 8,
   "id": "78582118",
   "metadata": {},
   "outputs": [],
   "source": [
    "df = pyam.concat([pyam_paper_data, pyam_ar6])"
   ]
  },
  {
   "cell_type": "code",
   "execution_count": 9,
   "id": "49b943f4",
   "metadata": {},
   "outputs": [
    {
     "data": {
      "text/plain": [
       "97"
      ]
     },
     "execution_count": 9,
     "metadata": {},
     "output_type": "execute_result"
    }
   ],
   "source": [
    "len(df.filter(variable='Cumulative AR6 climate diagnostics|Infilled|Emissions|CO2 from 2020').filter(Category='C1').index)"
   ]
  },
  {
   "cell_type": "code",
   "execution_count": 10,
   "id": "fa5892f7",
   "metadata": {},
   "outputs": [
    {
     "data": {
      "text/plain": [
       "70"
      ]
     },
     "execution_count": 10,
     "metadata": {},
     "output_type": "execute_result"
    }
   ],
   "source": [
    "len(df.filter(variable='Cumulative AR6 Reanalysis|OSCARv3.2|Emissions|CO2 from 2020').filter(Category='C1').index)"
   ]
  },
  {
   "cell_type": "markdown",
   "id": "e0f12523",
   "metadata": {},
   "source": [
    "# Compute Carbon Budgets"
   ]
  },
  {
   "cell_type": "code",
   "execution_count": 11,
   "id": "e52a9380",
   "metadata": {},
   "outputs": [],
   "source": [
    "meta_variable_templates = [\n",
    "    'AR6 climate diagnostics|Infilled|Emissions|{gas}', # as reported in AR6\n",
    "    'AR6 Reanalysis|OSCARv3.2|Emissions|{gas}|Direct Only', # reanalyzed by OSCAR\n",
    "    'AR6 Reanalysis|OSCARv3.2|Emissions|{gas}', # reanalyzed by OSCAR including NGHGI adjustment \n",
    "]\n",
    "\n",
    "data_variable_templates = [\n",
    "    'AR6 climate diagnostics|Infilled|Emissions|{gas}', # as reported in AR6\n",
    "    'AR6 Reanalysis|OSCARv3.2|Emissions|{gas}', # reanalyzed by OSCAR\n",
    "    'AR6 Reanalysis|OSCARv3.2|Emissions|{gas} - Direct and Indirect Fluxes', # reanalyzed by OSCAR including NGHGI adjustment \n",
    "]"
   ]
  },
  {
   "cell_type": "code",
   "execution_count": 12,
   "id": "de3761db",
   "metadata": {},
   "outputs": [],
   "source": [
    "def make_carbon_budget(df, mvariable, dvariable):\n",
    "    meta = (\n",
    "        df\n",
    "        .meta\n",
    "        .query(f\"Category in {all_categories}\")\n",
    "        [f'Interpolated Net-Zero Year for {mvariable}']\n",
    "        .dropna()\n",
    "        .astype(int)\n",
    "        .reset_index()\n",
    "    ) \n",
    "    data = (\n",
    "        df\n",
    "        .filter(region='World', variable=f'Cumulative {dvariable} from 2020')\n",
    "        .convert_unit('Mt CO2/yr', to='Gt CO2', factor=1e-3)\n",
    "    )\n",
    "    budgets = [(\n",
    "        row['model'], \n",
    "        row['scenario'], \n",
    "        data.filter(\n",
    "            model=row['model'], scenario=row['scenario'], \n",
    "            year=row[f'Interpolated Net-Zero Year for {mvariable}']\n",
    "        ).timeseries().values[0][0]\n",
    "    )\n",
    "        for i, row in meta.iterrows()\n",
    "    ]\n",
    "    return pd.DataFrame(budgets, columns=['model', 'scenario', f'Carbon Budget for {dvariable}']).set_index(['model', 'scenario'])\n",
    "        "
   ]
  },
  {
   "cell_type": "code",
   "execution_count": 13,
   "id": "e59239f7",
   "metadata": {},
   "outputs": [
    {
     "data": {
      "text/html": [
       "<div>\n",
       "<style scoped>\n",
       "    .dataframe tbody tr th:only-of-type {\n",
       "        vertical-align: middle;\n",
       "    }\n",
       "\n",
       "    .dataframe tbody tr th {\n",
       "        vertical-align: top;\n",
       "    }\n",
       "\n",
       "    .dataframe thead th {\n",
       "        text-align: right;\n",
       "    }\n",
       "</style>\n",
       "<table border=\"1\" class=\"dataframe\">\n",
       "  <thead>\n",
       "    <tr style=\"text-align: right;\">\n",
       "      <th></th>\n",
       "      <th></th>\n",
       "      <th>Carbon Budget for AR6 climate diagnostics|Infilled|Emissions|CO2</th>\n",
       "      <th>Carbon Budget for AR6 Reanalysis|OSCARv3.2|Emissions|CO2</th>\n",
       "      <th>Carbon Budget for AR6 Reanalysis|OSCARv3.2|Emissions|CO2 - Direct and Indirect Fluxes</th>\n",
       "    </tr>\n",
       "    <tr>\n",
       "      <th>model</th>\n",
       "      <th>scenario</th>\n",
       "      <th></th>\n",
       "      <th></th>\n",
       "      <th></th>\n",
       "    </tr>\n",
       "  </thead>\n",
       "  <tbody>\n",
       "    <tr>\n",
       "      <th rowspan=\"2\" valign=\"top\">AIM/CGE 2.0</th>\n",
       "      <th>SSP1-26</th>\n",
       "      <td>945.615367</td>\n",
       "      <td>862.102117</td>\n",
       "      <td>711.308853</td>\n",
       "    </tr>\n",
       "    <tr>\n",
       "      <th>SSP4-26</th>\n",
       "      <td>982.207779</td>\n",
       "      <td>1036.223839</td>\n",
       "      <td>876.356706</td>\n",
       "    </tr>\n",
       "    <tr>\n",
       "      <th rowspan=\"2\" valign=\"top\">AIM/CGE 2.1</th>\n",
       "      <th>CD-LINKS_NPi2020_1000</th>\n",
       "      <td>679.395766</td>\n",
       "      <td>493.573297</td>\n",
       "      <td>374.487241</td>\n",
       "    </tr>\n",
       "    <tr>\n",
       "      <th>CD-LINKS_NPi2020_400</th>\n",
       "      <td>508.452135</td>\n",
       "      <td>364.560104</td>\n",
       "      <td>298.821486</td>\n",
       "    </tr>\n",
       "    <tr>\n",
       "      <th>AIM/CGE 2.2</th>\n",
       "      <th>EN_INDCi2030_1000f</th>\n",
       "      <td>1160.102947</td>\n",
       "      <td>989.933137</td>\n",
       "      <td>820.869212</td>\n",
       "    </tr>\n",
       "  </tbody>\n",
       "</table>\n",
       "</div>"
      ],
      "text/plain": [
       "                                   Carbon Budget for AR6 climate diagnostics|Infilled|Emissions|CO2  \\\n",
       "model       scenario                                                                                  \n",
       "AIM/CGE 2.0 SSP1-26                                                       945.615367                  \n",
       "            SSP4-26                                                       982.207779                  \n",
       "AIM/CGE 2.1 CD-LINKS_NPi2020_1000                                         679.395766                  \n",
       "            CD-LINKS_NPi2020_400                                          508.452135                  \n",
       "AIM/CGE 2.2 EN_INDCi2030_1000f                                           1160.102947                  \n",
       "\n",
       "                                   Carbon Budget for AR6 Reanalysis|OSCARv3.2|Emissions|CO2  \\\n",
       "model       scenario                                                                          \n",
       "AIM/CGE 2.0 SSP1-26                                                       862.102117          \n",
       "            SSP4-26                                                      1036.223839          \n",
       "AIM/CGE 2.1 CD-LINKS_NPi2020_1000                                         493.573297          \n",
       "            CD-LINKS_NPi2020_400                                          364.560104          \n",
       "AIM/CGE 2.2 EN_INDCi2030_1000f                                            989.933137          \n",
       "\n",
       "                                   Carbon Budget for AR6 Reanalysis|OSCARv3.2|Emissions|CO2 - Direct and Indirect Fluxes  \n",
       "model       scenario                                                                                                      \n",
       "AIM/CGE 2.0 SSP1-26                                                       711.308853                                      \n",
       "            SSP4-26                                                       876.356706                                      \n",
       "AIM/CGE 2.1 CD-LINKS_NPi2020_1000                                         374.487241                                      \n",
       "            CD-LINKS_NPi2020_400                                          298.821486                                      \n",
       "AIM/CGE 2.2 EN_INDCi2030_1000f                                            820.869212                                      "
      ]
     },
     "execution_count": 13,
     "metadata": {},
     "output_type": "execute_result"
    }
   ],
   "source": [
    "new_meta = pd.concat([\n",
    "    make_carbon_budget(df, mtemplate.format(gas='CO2'), dtemplate.format(gas='CO2')) for mtemplate, dtemplate in zip(meta_variable_templates, data_variable_templates)\n",
    "], axis=1)\n",
    "all_new_meta.append(new_meta)\n",
    "df.set_meta(new_meta)\n",
    "new_meta.head()"
   ]
  },
  {
   "cell_type": "markdown",
   "id": "d0325829",
   "metadata": {},
   "source": [
    "# Emission Reductions"
   ]
  },
  {
   "cell_type": "code",
   "execution_count": 14,
   "id": "10a97013",
   "metadata": {},
   "outputs": [],
   "source": [
    "def compute_reduction(df, variable, fromyear=2020, toyear=2030):\n",
    "    data = (\n",
    "        df\n",
    "        .filter(variable=variable, year=[fromyear, toyear], region='World')\n",
    "        .timeseries()\n",
    "        .droplevel(['region', 'unit', 'variable'])\n",
    "    )\n",
    "    s = (data[fromyear] - data[toyear]) / data[fromyear] * 100\n",
    "    s.name = f'2030 Emission Reductions for {variable}'\n",
    "    return s"
   ]
  },
  {
   "cell_type": "code",
   "execution_count": 15,
   "id": "f5d2b3c6",
   "metadata": {},
   "outputs": [
    {
     "data": {
      "text/html": [
       "<div>\n",
       "<style scoped>\n",
       "    .dataframe tbody tr th:only-of-type {\n",
       "        vertical-align: middle;\n",
       "    }\n",
       "\n",
       "    .dataframe tbody tr th {\n",
       "        vertical-align: top;\n",
       "    }\n",
       "\n",
       "    .dataframe thead th {\n",
       "        text-align: right;\n",
       "    }\n",
       "</style>\n",
       "<table border=\"1\" class=\"dataframe\">\n",
       "  <thead>\n",
       "    <tr style=\"text-align: right;\">\n",
       "      <th></th>\n",
       "      <th></th>\n",
       "      <th>2030 Emission Reductions for AR6 climate diagnostics|Infilled|Emissions|CO2</th>\n",
       "      <th>2030 Emission Reductions for AR6 Reanalysis|OSCARv3.2|Emissions|CO2</th>\n",
       "      <th>2030 Emission Reductions for AR6 Reanalysis|OSCARv3.2|Emissions|CO2 - Direct and Indirect Fluxes</th>\n",
       "      <th>2030 Emission Reductions for AR6 climate diagnostics|Infilled|Emissions|Kyoto Gases</th>\n",
       "      <th>2030 Emission Reductions for AR6 Reanalysis|OSCARv3.2|Emissions|Kyoto Gases</th>\n",
       "      <th>2030 Emission Reductions for AR6 Reanalysis|OSCARv3.2|Emissions|Kyoto Gases - Direct and Indirect Fluxes</th>\n",
       "    </tr>\n",
       "    <tr>\n",
       "      <th>model</th>\n",
       "      <th>scenario</th>\n",
       "      <th></th>\n",
       "      <th></th>\n",
       "      <th></th>\n",
       "      <th></th>\n",
       "      <th></th>\n",
       "      <th></th>\n",
       "    </tr>\n",
       "  </thead>\n",
       "  <tbody>\n",
       "    <tr>\n",
       "      <th rowspan=\"2\" valign=\"top\">AIM/CGE 2.0</th>\n",
       "      <th>SSP1-26</th>\n",
       "      <td>20.698212</td>\n",
       "      <td>20.690203</td>\n",
       "      <td>24.188745</td>\n",
       "      <td>24.976649</td>\n",
       "      <td>25.684139</td>\n",
       "      <td>28.421538</td>\n",
       "    </tr>\n",
       "    <tr>\n",
       "      <th>SSP4-26</th>\n",
       "      <td>23.080940</td>\n",
       "      <td>19.278438</td>\n",
       "      <td>22.529429</td>\n",
       "      <td>28.116878</td>\n",
       "      <td>26.476508</td>\n",
       "      <td>29.215934</td>\n",
       "    </tr>\n",
       "    <tr>\n",
       "      <th rowspan=\"3\" valign=\"top\">AIM/CGE 2.1</th>\n",
       "      <th>CD-LINKS_NPi2020_1000</th>\n",
       "      <td>39.680445</td>\n",
       "      <td>50.210320</td>\n",
       "      <td>56.662343</td>\n",
       "      <td>41.311850</td>\n",
       "      <td>49.059937</td>\n",
       "      <td>53.516130</td>\n",
       "    </tr>\n",
       "    <tr>\n",
       "      <th>CD-LINKS_NPi2020_400</th>\n",
       "      <td>44.295652</td>\n",
       "      <td>56.814615</td>\n",
       "      <td>63.605357</td>\n",
       "      <td>45.320361</td>\n",
       "      <td>54.422898</td>\n",
       "      <td>59.035644</td>\n",
       "    </tr>\n",
       "    <tr>\n",
       "      <th>CO_Bridge</th>\n",
       "      <td>22.553044</td>\n",
       "      <td>28.227574</td>\n",
       "      <td>33.335398</td>\n",
       "      <td>27.958333</td>\n",
       "      <td>32.206624</td>\n",
       "      <td>36.012106</td>\n",
       "    </tr>\n",
       "  </tbody>\n",
       "</table>\n",
       "</div>"
      ],
      "text/plain": [
       "                                   2030 Emission Reductions for AR6 climate diagnostics|Infilled|Emissions|CO2  \\\n",
       "model       scenario                                                                                             \n",
       "AIM/CGE 2.0 SSP1-26                                                        20.698212                             \n",
       "            SSP4-26                                                        23.080940                             \n",
       "AIM/CGE 2.1 CD-LINKS_NPi2020_1000                                          39.680445                             \n",
       "            CD-LINKS_NPi2020_400                                           44.295652                             \n",
       "            CO_Bridge                                                      22.553044                             \n",
       "\n",
       "                                   2030 Emission Reductions for AR6 Reanalysis|OSCARv3.2|Emissions|CO2  \\\n",
       "model       scenario                                                                                     \n",
       "AIM/CGE 2.0 SSP1-26                                                        20.690203                     \n",
       "            SSP4-26                                                        19.278438                     \n",
       "AIM/CGE 2.1 CD-LINKS_NPi2020_1000                                          50.210320                     \n",
       "            CD-LINKS_NPi2020_400                                           56.814615                     \n",
       "            CO_Bridge                                                      28.227574                     \n",
       "\n",
       "                                   2030 Emission Reductions for AR6 Reanalysis|OSCARv3.2|Emissions|CO2 - Direct and Indirect Fluxes  \\\n",
       "model       scenario                                                                                                                  \n",
       "AIM/CGE 2.0 SSP1-26                                                        24.188745                                                  \n",
       "            SSP4-26                                                        22.529429                                                  \n",
       "AIM/CGE 2.1 CD-LINKS_NPi2020_1000                                          56.662343                                                  \n",
       "            CD-LINKS_NPi2020_400                                           63.605357                                                  \n",
       "            CO_Bridge                                                      33.335398                                                  \n",
       "\n",
       "                                   2030 Emission Reductions for AR6 climate diagnostics|Infilled|Emissions|Kyoto Gases  \\\n",
       "model       scenario                                                                                                     \n",
       "AIM/CGE 2.0 SSP1-26                                                        24.976649                                     \n",
       "            SSP4-26                                                        28.116878                                     \n",
       "AIM/CGE 2.1 CD-LINKS_NPi2020_1000                                          41.311850                                     \n",
       "            CD-LINKS_NPi2020_400                                           45.320361                                     \n",
       "            CO_Bridge                                                      27.958333                                     \n",
       "\n",
       "                                   2030 Emission Reductions for AR6 Reanalysis|OSCARv3.2|Emissions|Kyoto Gases  \\\n",
       "model       scenario                                                                                             \n",
       "AIM/CGE 2.0 SSP1-26                                                        25.684139                             \n",
       "            SSP4-26                                                        26.476508                             \n",
       "AIM/CGE 2.1 CD-LINKS_NPi2020_1000                                          49.059937                             \n",
       "            CD-LINKS_NPi2020_400                                           54.422898                             \n",
       "            CO_Bridge                                                      32.206624                             \n",
       "\n",
       "                                   2030 Emission Reductions for AR6 Reanalysis|OSCARv3.2|Emissions|Kyoto Gases - Direct and Indirect Fluxes  \n",
       "model       scenario                                                                                                                         \n",
       "AIM/CGE 2.0 SSP1-26                                                        28.421538                                                         \n",
       "            SSP4-26                                                        29.215934                                                         \n",
       "AIM/CGE 2.1 CD-LINKS_NPi2020_1000                                          53.516130                                                         \n",
       "            CD-LINKS_NPi2020_400                                           59.035644                                                         \n",
       "            CO_Bridge                                                      36.012106                                                         "
      ]
     },
     "execution_count": 15,
     "metadata": {},
     "output_type": "execute_result"
    }
   ],
   "source": [
    "gases = ['CO2', 'Kyoto Gases']\n",
    "new_meta = pd.concat([\n",
    "    compute_reduction(df, template.format(gas=gas))\n",
    "    for gas, template in itertools.product(gases, data_variable_templates)\n",
    "], axis=1)\n",
    "all_new_meta.append(new_meta)\n",
    "df.set_meta(new_meta)\n",
    "new_meta.head()"
   ]
  },
  {
   "cell_type": "markdown",
   "id": "9840255f",
   "metadata": {},
   "source": [
    "# Save to File"
   ]
  },
  {
   "cell_type": "code",
   "execution_count": 16,
   "id": "13570b04",
   "metadata": {},
   "outputs": [],
   "source": [
    "to_save = pd.concat(all_new_meta + [pyam_ar6.meta[list(columns.values())]]) # add renamed columns"
   ]
  },
  {
   "cell_type": "code",
   "execution_count": 17,
   "id": "6e293228",
   "metadata": {},
   "outputs": [],
   "source": [
    "to_save.to_csv(data_path / 'additional_analysis_metadata.csv', index=True)"
   ]
  }
 ],
 "metadata": {
  "kernelspec": {
   "display_name": "pyam",
   "language": "python",
   "name": "python3"
  },
  "language_info": {
   "codemirror_mode": {
    "name": "ipython",
    "version": 3
   },
   "file_extension": ".py",
   "mimetype": "text/x-python",
   "name": "python",
   "nbconvert_exporter": "python",
   "pygments_lexer": "ipython3",
   "version": "3.11.4"
  }
 },
 "nbformat": 4,
 "nbformat_minor": 5
}
