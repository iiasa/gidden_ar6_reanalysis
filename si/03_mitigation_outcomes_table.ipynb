{
 "cells": [
  {
   "cell_type": "code",
   "execution_count": 1,
   "id": "606243fc",
   "metadata": {},
   "outputs": [
    {
     "name": "stderr",
     "output_type": "stream",
     "text": [
      "c:\\Users\\gidden\\Miniconda3\\envs\\pyam\\Lib\\site-packages\\xarray\\backends\\cfgrib_.py:27: UserWarning: Failed to load cfgrib - most likely there is a problem accessing the ecCodes library. Try `import cfgrib` to get the full error message\n",
      "  warnings.warn(\n"
     ]
    }
   ],
   "source": [
    "import itertools\n",
    "import pathlib\n",
    "import pyam\n",
    "\n",
    "import numpy as np\n",
    "import pandas as pd"
   ]
  },
  {
   "cell_type": "markdown",
   "id": "6e886978",
   "metadata": {},
   "source": [
    "# Load Data"
   ]
  },
  {
   "cell_type": "code",
   "execution_count": 2,
   "id": "52fa04c4",
   "metadata": {},
   "outputs": [],
   "source": [
    "data_path = pathlib.Path('../data')\n",
    "paper_prefix = '10.5281_zenodo.10158920_gidden_et_al_2023_ar6_reanalysis'"
   ]
  },
  {
   "cell_type": "code",
   "execution_count": 3,
   "id": "ea9706d2",
   "metadata": {},
   "outputs": [],
   "source": [
    "df = pyam.IamDataFrame(pd.concat([\n",
    "    pd.read_csv(data_path / f'{paper_prefix}_data.csv'),\n",
    "    pd.read_csv(data_path / 'additional_analysis_data.csv'),\n",
    "]))"
   ]
  },
  {
   "cell_type": "code",
   "execution_count": 4,
   "id": "cb7b29ab",
   "metadata": {},
   "outputs": [],
   "source": [
    "meta = pd.merge(\n",
    "    pd.read_csv(data_path / f'{paper_prefix}_meta.csv'),\n",
    "    pd.read_csv(data_path / 'additional_analysis_metadata.csv'),\n",
    "    on=['model', 'scenario'], how='inner'\n",
    ")"
   ]
  },
  {
   "cell_type": "code",
   "execution_count": 5,
   "id": "553825ed",
   "metadata": {},
   "outputs": [],
   "source": [
    "df.set_meta(meta.drop('exclude', axis=1))"
   ]
  },
  {
   "cell_type": "markdown",
   "id": "74b89fda",
   "metadata": {},
   "source": [
    "# Summarize Key Mitigation Statistics"
   ]
  },
  {
   "cell_type": "code",
   "execution_count": 6,
   "id": "2d2a6cbe",
   "metadata": {},
   "outputs": [],
   "source": [
    "meta_variable_templates = [\n",
    "    'AR6 climate diagnostics|Infilled|Emissions|{gas}', # as reported in AR6\n",
    "    'AR6 Reanalysis|OSCARv3.2|Emissions|{gas}|Direct Only', # reanalyzed by OSCAR\n",
    "    'AR6 Reanalysis|OSCARv3.2|Emissions|{gas}', # reanalyzed by OSCAR including NGHGI adjustment \n",
    "]\n",
    "\n",
    "data_variable_templates = [\n",
    "    'AR6 climate diagnostics|Infilled|Emissions|{gas}', # as reported in AR6\n",
    "    'AR6 Reanalysis|OSCARv3.2|Emissions|{gas}', # reanalyzed by OSCAR\n",
    "    'AR6 Reanalysis|OSCARv3.2|Emissions|{gas} - Direct and Indirect Fluxes', # reanalyzed by OSCAR including NGHGI adjustment \n",
    "]"
   ]
  },
  {
   "cell_type": "code",
   "execution_count": 7,
   "id": "5cfd9ccc",
   "metadata": {},
   "outputs": [],
   "source": [
    "def summarize(data, variable_start, gas, name, dataonly=False, templates='data'):\n",
    "    print(name)\n",
    "    templates = data_variable_templates if templates == 'data' else meta_variable_templates\n",
    "    cols = [variable_start + template.format(gas=gas) for template in templates]\n",
    "    headers = ['AR6 Statistics', 'Pathways with OSCAR Direct Effects', 'Pathways with OSCAR Direct & Indirect Effects']\n",
    "    for col in cols:\n",
    "        if not col in data:\n",
    "            raise ValueError(f'{col} not in data columns')\n",
    "    ret = (\n",
    "        data\n",
    "        .query(\"Category in ['C1', 'C2', 'C3']\")\n",
    "        .replace({'Category': {'C1': '1.5C', 'C2': '1.5C-OS', 'C3': '2C'}})\n",
    "        .rename(columns={c: h for c, h in zip(cols, headers)})\n",
    "        [headers + ['Category']]\n",
    "        .groupby('Category')\n",
    "        .describe(percentiles=(0.05, 0.5, 0.95))\n",
    "    )\n",
    "    if not dataonly:\n",
    "        ret = (\n",
    "            ret\n",
    "            .stack(level=-2)\n",
    "            [['50%', '5%', '95%']]\n",
    "            .fillna(2100)\n",
    "            .astype(int)\n",
    "            .apply(lambda col: f\"{col['50%']} ({col['5%']}-{col['95%']})\", axis=1)\n",
    "            .to_frame(name=name)\n",
    "            .loc[['1.5C', '1.5C-OS', '2C'], headers, :]\n",
    "        )\n",
    "    return ret"
   ]
  },
  {
   "cell_type": "code",
   "execution_count": 8,
   "id": "afaf2e1a",
   "metadata": {},
   "outputs": [],
   "source": [
    "to_summarize = {\n",
    "    ('Carbon Budget for ', 'CO2', 'data'): 'Carbon Budget from 2020',\n",
    "    ('2030 Emission Reductions for ', 'CO2', 'data'): 'CO2 Emissions Reductions (2020-2030)',\n",
    "    ('Interpolated Net-Zero Year for ', 'CO2', 'meta'): 'Net-zero CO2 Year',\n",
    "    ('Interpolated Net-Zero Year for ', 'Kyoto Gases', 'meta'): 'Net-zero GHG Year',\n",
    "}"
   ]
  },
  {
   "cell_type": "code",
   "execution_count": 9,
   "id": "c3dd2751",
   "metadata": {},
   "outputs": [
    {
     "name": "stdout",
     "output_type": "stream",
     "text": [
      "Carbon Budget from 2020\n",
      "CO2 Emissions Reductions (2020-2030)\n",
      "Net-zero CO2 Year\n",
      "Net-zero GHG Year\n"
     ]
    },
    {
     "name": "stderr",
     "output_type": "stream",
     "text": [
      "C:\\Users\\gidden\\AppData\\Local\\Temp\\ipykernel_28656\\3589776631.py:21: FutureWarning: The previous implementation of stack is deprecated and will be removed in a future version of pandas. See the What's New notes for pandas 2.1.0 for details. Specify future_stack=True to adopt the new implementation and silence this warning.\n",
      "  .stack(level=-2)\n",
      "C:\\Users\\gidden\\AppData\\Local\\Temp\\ipykernel_28656\\3589776631.py:21: FutureWarning: The previous implementation of stack is deprecated and will be removed in a future version of pandas. See the What's New notes for pandas 2.1.0 for details. Specify future_stack=True to adopt the new implementation and silence this warning.\n",
      "  .stack(level=-2)\n",
      "C:\\Users\\gidden\\AppData\\Local\\Temp\\ipykernel_28656\\3589776631.py:21: FutureWarning: The previous implementation of stack is deprecated and will be removed in a future version of pandas. See the What's New notes for pandas 2.1.0 for details. Specify future_stack=True to adopt the new implementation and silence this warning.\n",
      "  .stack(level=-2)\n",
      "c:\\Users\\gidden\\Miniconda3\\envs\\pyam\\Lib\\site-packages\\numpy\\lib\\function_base.py:4655: RuntimeWarning: invalid value encountered in subtract\n",
      "  diff_b_a = subtract(b, a)\n",
      "c:\\Users\\gidden\\Miniconda3\\envs\\pyam\\Lib\\site-packages\\numpy\\lib\\function_base.py:4655: RuntimeWarning: invalid value encountered in subtract\n",
      "  diff_b_a = subtract(b, a)\n",
      "c:\\Users\\gidden\\Miniconda3\\envs\\pyam\\Lib\\site-packages\\numpy\\lib\\function_base.py:4655: RuntimeWarning: invalid value encountered in subtract\n",
      "  diff_b_a = subtract(b, a)\n",
      "C:\\Users\\gidden\\AppData\\Local\\Temp\\ipykernel_28656\\3589776631.py:21: FutureWarning: The previous implementation of stack is deprecated and will be removed in a future version of pandas. See the What's New notes for pandas 2.1.0 for details. Specify future_stack=True to adopt the new implementation and silence this warning.\n",
      "  .stack(level=-2)\n"
     ]
    },
    {
     "data": {
      "text/html": [
       "<div>\n",
       "<style scoped>\n",
       "    .dataframe tbody tr th:only-of-type {\n",
       "        vertical-align: middle;\n",
       "    }\n",
       "\n",
       "    .dataframe tbody tr th {\n",
       "        vertical-align: top;\n",
       "    }\n",
       "\n",
       "    .dataframe thead tr th {\n",
       "        text-align: left;\n",
       "    }\n",
       "</style>\n",
       "<table border=\"1\" class=\"dataframe\">\n",
       "  <thead>\n",
       "    <tr>\n",
       "      <th>Category</th>\n",
       "      <th colspan=\"3\" halign=\"left\">1.5C</th>\n",
       "      <th colspan=\"3\" halign=\"left\">1.5C-OS</th>\n",
       "      <th colspan=\"3\" halign=\"left\">2C</th>\n",
       "    </tr>\n",
       "    <tr>\n",
       "      <th></th>\n",
       "      <th>AR6 Statistics</th>\n",
       "      <th>Pathways with OSCAR Direct Effects</th>\n",
       "      <th>Pathways with OSCAR Direct &amp; Indirect Effects</th>\n",
       "      <th>AR6 Statistics</th>\n",
       "      <th>Pathways with OSCAR Direct Effects</th>\n",
       "      <th>Pathways with OSCAR Direct &amp; Indirect Effects</th>\n",
       "      <th>AR6 Statistics</th>\n",
       "      <th>Pathways with OSCAR Direct Effects</th>\n",
       "      <th>Pathways with OSCAR Direct &amp; Indirect Effects</th>\n",
       "    </tr>\n",
       "  </thead>\n",
       "  <tbody>\n",
       "    <tr>\n",
       "      <th>Carbon Budget from 2020</th>\n",
       "      <td>507 (341-648)</td>\n",
       "      <td>473 (319-620)</td>\n",
       "      <td>392 (262-528)</td>\n",
       "      <td>718 (522-933)</td>\n",
       "      <td>702 (497-1000)</td>\n",
       "      <td>594 (422-865)</td>\n",
       "      <td>881 (618-1089)</td>\n",
       "      <td>838 (542-1100)</td>\n",
       "      <td>703 (445-936)</td>\n",
       "    </tr>\n",
       "    <tr>\n",
       "      <th>CO2 Emissions Reductions (2020-2030)</th>\n",
       "      <td>49 (35-67)</td>\n",
       "      <td>52 (35-67)</td>\n",
       "      <td>56 (39-73)</td>\n",
       "      <td>26 (1-49)</td>\n",
       "      <td>25 (0-49)</td>\n",
       "      <td>29 (1-52)</td>\n",
       "      <td>21 (1-45)</td>\n",
       "      <td>21 (1-50)</td>\n",
       "      <td>25 (4-55)</td>\n",
       "    </tr>\n",
       "    <tr>\n",
       "      <th>Net-zero CO2 Year</th>\n",
       "      <td>2052 (2038-2067)</td>\n",
       "      <td>2050 (2040-2060)</td>\n",
       "      <td>2047 (2037-2057)</td>\n",
       "      <td>2058 (2047-2066)</td>\n",
       "      <td>2057 (2047-2068)</td>\n",
       "      <td>2054 (2045-2065)</td>\n",
       "      <td>2070 (2058-2090)</td>\n",
       "      <td>2068 (2051-2088)</td>\n",
       "      <td>2064 (2049-2084)</td>\n",
       "    </tr>\n",
       "    <tr>\n",
       "      <th>Net-zero GHG Year</th>\n",
       "      <td>2100 (2052-2100)</td>\n",
       "      <td>2066 (2050-2090)</td>\n",
       "      <td>2067 (2049-2088)</td>\n",
       "      <td>2073 (2057-2100)</td>\n",
       "      <td>2073 (2056-2089)</td>\n",
       "      <td>2074 (2054-2097)</td>\n",
       "      <td>2100 (2078-2100)</td>\n",
       "      <td>2082 (2069-2096)</td>\n",
       "      <td>2082 (2066-2098)</td>\n",
       "    </tr>\n",
       "  </tbody>\n",
       "</table>\n",
       "</div>"
      ],
      "text/plain": [
       "Category                                          1.5C  \\\n",
       "                                        AR6 Statistics   \n",
       "Carbon Budget from 2020                  507 (341-648)   \n",
       "CO2 Emissions Reductions (2020-2030)        49 (35-67)   \n",
       "Net-zero CO2 Year                     2052 (2038-2067)   \n",
       "Net-zero GHG Year                     2100 (2052-2100)   \n",
       "\n",
       "Category                                                                 \\\n",
       "                                     Pathways with OSCAR Direct Effects   \n",
       "Carbon Budget from 2020                                   473 (319-620)   \n",
       "CO2 Emissions Reductions (2020-2030)                         52 (35-67)   \n",
       "Net-zero CO2 Year                                      2050 (2040-2060)   \n",
       "Net-zero GHG Year                                      2066 (2050-2090)   \n",
       "\n",
       "Category                                                                            \\\n",
       "                                     Pathways with OSCAR Direct & Indirect Effects   \n",
       "Carbon Budget from 2020                                              392 (262-528)   \n",
       "CO2 Emissions Reductions (2020-2030)                                    56 (39-73)   \n",
       "Net-zero CO2 Year                                                 2047 (2037-2057)   \n",
       "Net-zero GHG Year                                                 2067 (2049-2088)   \n",
       "\n",
       "Category                                       1.5C-OS  \\\n",
       "                                        AR6 Statistics   \n",
       "Carbon Budget from 2020                  718 (522-933)   \n",
       "CO2 Emissions Reductions (2020-2030)         26 (1-49)   \n",
       "Net-zero CO2 Year                     2058 (2047-2066)   \n",
       "Net-zero GHG Year                     2073 (2057-2100)   \n",
       "\n",
       "Category                                                                 \\\n",
       "                                     Pathways with OSCAR Direct Effects   \n",
       "Carbon Budget from 2020                                  702 (497-1000)   \n",
       "CO2 Emissions Reductions (2020-2030)                          25 (0-49)   \n",
       "Net-zero CO2 Year                                      2057 (2047-2068)   \n",
       "Net-zero GHG Year                                      2073 (2056-2089)   \n",
       "\n",
       "Category                                                                            \\\n",
       "                                     Pathways with OSCAR Direct & Indirect Effects   \n",
       "Carbon Budget from 2020                                              594 (422-865)   \n",
       "CO2 Emissions Reductions (2020-2030)                                     29 (1-52)   \n",
       "Net-zero CO2 Year                                                 2054 (2045-2065)   \n",
       "Net-zero GHG Year                                                 2074 (2054-2097)   \n",
       "\n",
       "Category                                            2C  \\\n",
       "                                        AR6 Statistics   \n",
       "Carbon Budget from 2020                 881 (618-1089)   \n",
       "CO2 Emissions Reductions (2020-2030)         21 (1-45)   \n",
       "Net-zero CO2 Year                     2070 (2058-2090)   \n",
       "Net-zero GHG Year                     2100 (2078-2100)   \n",
       "\n",
       "Category                                                                 \\\n",
       "                                     Pathways with OSCAR Direct Effects   \n",
       "Carbon Budget from 2020                                  838 (542-1100)   \n",
       "CO2 Emissions Reductions (2020-2030)                          21 (1-50)   \n",
       "Net-zero CO2 Year                                      2068 (2051-2088)   \n",
       "Net-zero GHG Year                                      2082 (2069-2096)   \n",
       "\n",
       "Category                                                                            \n",
       "                                     Pathways with OSCAR Direct & Indirect Effects  \n",
       "Carbon Budget from 2020                                              703 (445-936)  \n",
       "CO2 Emissions Reductions (2020-2030)                                     25 (4-55)  \n",
       "Net-zero CO2 Year                                                 2064 (2049-2084)  \n",
       "Net-zero GHG Year                                                 2082 (2066-2098)  "
      ]
     },
     "execution_count": 9,
     "metadata": {},
     "output_type": "execute_result"
    }
   ],
   "source": [
    "table = pd.concat([\n",
    "    summarize(df.meta, variable_start, gas, name, templates=templates)\n",
    "    for (variable_start, gas, templates), name in to_summarize.items()\n",
    "], axis=1).T\n",
    "table.to_excel('mitigation_outcomes.xlsx')\n",
    "table"
   ]
  },
  {
   "cell_type": "code",
   "execution_count": 10,
   "id": "b444edf9",
   "metadata": {},
   "outputs": [
    {
     "name": "stdout",
     "output_type": "stream",
     "text": [
      "Carbon Budget from 2020\n"
     ]
    },
    {
     "name": "stderr",
     "output_type": "stream",
     "text": [
      "C:\\Users\\gidden\\AppData\\Local\\Temp\\ipykernel_28656\\2683873391.py:1: FutureWarning: The previous implementation of stack is deprecated and will be removed in a future version of pandas. See the What's New notes for pandas 2.1.0 for details. Specify future_stack=True to adopt the new implementation and silence this warning.\n",
      "  budgets = summarize(df.meta, 'Carbon Budget for ', 'CO2', 'Carbon Budget from 2020', dataonly=True).stack()\n"
     ]
    },
    {
     "data": {
      "text/plain": [
       "Category       \n",
       "1.5C      count    0.000000\n",
       "          mean     0.163203\n",
       "          std      0.130028\n",
       "          min      0.301821\n",
       "          5%       0.179988\n",
       "          50%      0.170250\n",
       "          95%      0.149395\n",
       "          max      0.154516\n",
       "1.5C-OS   count    0.000000\n",
       "          mean     0.147342\n",
       "          std      0.110487\n",
       "          min      0.160605\n",
       "          5%       0.152412\n",
       "          50%      0.154522\n",
       "          95%      0.135265\n",
       "          max      0.132219\n",
       "2C        count    0.005128\n",
       "          mean     0.162748\n",
       "          std      0.142802\n",
       "          min      0.192574\n",
       "          5%       0.180185\n",
       "          50%      0.160563\n",
       "          95%      0.149163\n",
       "          max      0.138996\n",
       "dtype: float64"
      ]
     },
     "execution_count": 10,
     "metadata": {},
     "output_type": "execute_result"
    }
   ],
   "source": [
    "budgets = summarize(df.meta, 'Carbon Budget for ', 'CO2', 'Carbon Budget from 2020', dataonly=True).stack()\n",
    "1 - budgets['Pathways with OSCAR Direct & Indirect Effects'] / budgets['Pathways with OSCAR Direct Effects']"
   ]
  },
  {
   "cell_type": "code",
   "execution_count": null,
   "id": "fb3b814a",
   "metadata": {},
   "outputs": [],
   "source": []
  },
  {
   "cell_type": "markdown",
   "id": "e0a8a2be",
   "metadata": {},
   "source": [
    "# Net-zero timings compared to a constant offset of 3.7 Gt CO2\n",
    "\n",
    "Here we calculate the difference between net-zero timings between the dynamic estimation of indirect effects vs. applying a constant offset value\n"
   ]
  },
  {
   "cell_type": "code",
   "execution_count": 11,
   "id": "051e6075",
   "metadata": {},
   "outputs": [],
   "source": [
    "def calc_nz(df, v):\n",
    "    data = (\n",
    "         df\n",
    "        .filter(region='World', variable=v)\n",
    "        .filter(year=range(2020, 2101))\n",
    "        .timeseries()\n",
    "        .T\n",
    "        .lt(1e-2)\n",
    "        .idxmax()\n",
    "        .reset_index(level=['region', 'variable', 'unit'], drop=True)\n",
    "    )\n",
    "    data[data == 2020] = pd.NA\n",
    "    return data    "
   ]
  },
  {
   "cell_type": "code",
   "execution_count": 12,
   "id": "805b52ca",
   "metadata": {},
   "outputs": [],
   "source": [
    "v = 'CO2-constant offset'\n",
    "offsetdf = df.subtract('AR6 Reanalysis|OSCARv3.2|Emissions|CO2', 3.7e3, name=v, ignore_units='Mt CO2/yr')\n",
    "offsetdf.set_meta(calc_nz(offsetdf, v), name=f'Interpolated Net-Zero Year for {v}')"
   ]
  },
  {
   "cell_type": "code",
   "execution_count": 13,
   "id": "8f9433da",
   "metadata": {},
   "outputs": [],
   "source": [
    "offsetdf.meta['Offset Year Delta'] = (\n",
    "    offsetdf.meta['Interpolated Net-Zero Year for AR6 Reanalysis|OSCARv3.2|Emissions|CO2'] -\n",
    "    offsetdf.meta['Interpolated Net-Zero Year for CO2-constant offset']\n",
    ")"
   ]
  },
  {
   "cell_type": "code",
   "execution_count": 14,
   "id": "643d2f1c",
   "metadata": {},
   "outputs": [
    {
     "data": {
      "text/plain": [
       "Category\n",
       "C1    210\n",
       "C2    318\n",
       "C3    582\n",
       "C4    100\n",
       "C5     68\n",
       "C6      0\n",
       "C7      0\n",
       "C8      0\n",
       "Name: Offset Year Delta, dtype: int64"
      ]
     },
     "execution_count": 14,
     "metadata": {},
     "output_type": "execute_result"
    }
   ],
   "source": [
    "offsetdf.meta.groupby('Category')['Offset Year Delta'].count()"
   ]
  },
  {
   "cell_type": "code",
   "execution_count": 15,
   "id": "a124f520",
   "metadata": {},
   "outputs": [
    {
     "data": {
      "text/html": [
       "<div>\n",
       "<style scoped>\n",
       "    .dataframe tbody tr th:only-of-type {\n",
       "        vertical-align: middle;\n",
       "    }\n",
       "\n",
       "    .dataframe tbody tr th {\n",
       "        vertical-align: top;\n",
       "    }\n",
       "\n",
       "    .dataframe thead th {\n",
       "        text-align: right;\n",
       "    }\n",
       "</style>\n",
       "<table border=\"1\" class=\"dataframe\">\n",
       "  <thead>\n",
       "    <tr style=\"text-align: right;\">\n",
       "      <th></th>\n",
       "      <th>50%</th>\n",
       "      <th>5%</th>\n",
       "      <th>95%</th>\n",
       "    </tr>\n",
       "    <tr>\n",
       "      <th>Category</th>\n",
       "      <th></th>\n",
       "      <th></th>\n",
       "      <th></th>\n",
       "    </tr>\n",
       "  </thead>\n",
       "  <tbody>\n",
       "    <tr>\n",
       "      <th>C1</th>\n",
       "      <td>2.0</td>\n",
       "      <td>0.0</td>\n",
       "      <td>7.00</td>\n",
       "    </tr>\n",
       "    <tr>\n",
       "      <th>C2</th>\n",
       "      <td>2.0</td>\n",
       "      <td>0.0</td>\n",
       "      <td>7.00</td>\n",
       "    </tr>\n",
       "    <tr>\n",
       "      <th>C3</th>\n",
       "      <td>4.0</td>\n",
       "      <td>1.0</td>\n",
       "      <td>15.00</td>\n",
       "    </tr>\n",
       "    <tr>\n",
       "      <th>C4</th>\n",
       "      <td>4.0</td>\n",
       "      <td>1.0</td>\n",
       "      <td>13.05</td>\n",
       "    </tr>\n",
       "    <tr>\n",
       "      <th>C5</th>\n",
       "      <td>4.0</td>\n",
       "      <td>1.0</td>\n",
       "      <td>9.95</td>\n",
       "    </tr>\n",
       "    <tr>\n",
       "      <th>C6</th>\n",
       "      <td>NaN</td>\n",
       "      <td>NaN</td>\n",
       "      <td>NaN</td>\n",
       "    </tr>\n",
       "    <tr>\n",
       "      <th>C7</th>\n",
       "      <td>NaN</td>\n",
       "      <td>NaN</td>\n",
       "      <td>NaN</td>\n",
       "    </tr>\n",
       "    <tr>\n",
       "      <th>C8</th>\n",
       "      <td>NaN</td>\n",
       "      <td>NaN</td>\n",
       "      <td>NaN</td>\n",
       "    </tr>\n",
       "  </tbody>\n",
       "</table>\n",
       "</div>"
      ],
      "text/plain": [
       "          50%   5%    95%\n",
       "Category                 \n",
       "C1        2.0  0.0   7.00\n",
       "C2        2.0  0.0   7.00\n",
       "C3        4.0  1.0  15.00\n",
       "C4        4.0  1.0  13.05\n",
       "C5        4.0  1.0   9.95\n",
       "C6        NaN  NaN    NaN\n",
       "C7        NaN  NaN    NaN\n",
       "C8        NaN  NaN    NaN"
      ]
     },
     "execution_count": 15,
     "metadata": {},
     "output_type": "execute_result"
    }
   ],
   "source": [
    "(\n",
    "    offsetdf.meta\n",
    "    .groupby('Category')['Offset Year Delta']\n",
    "    .describe(percentiles=(0.05, 0.5, 0.95))\n",
    "    [['50%', '5%', '95%']]\n",
    ")"
   ]
  },
  {
   "cell_type": "code",
   "execution_count": null,
   "id": "26e84302",
   "metadata": {},
   "outputs": [],
   "source": []
  }
 ],
 "metadata": {
  "kernelspec": {
   "display_name": "pyam",
   "language": "python",
   "name": "python3"
  },
  "language_info": {
   "codemirror_mode": {
    "name": "ipython",
    "version": 3
   },
   "file_extension": ".py",
   "mimetype": "text/x-python",
   "name": "python",
   "nbconvert_exporter": "python",
   "pygments_lexer": "ipython3",
   "version": "3.11.4"
  }
 },
 "nbformat": 4,
 "nbformat_minor": 5
}
